{
  "nbformat": 4,
  "nbformat_minor": 0,
  "metadata": {
    "colab": {
      "name": "Assignment.ipynb",
      "provenance": [],
      "authorship_tag": "ABX9TyOJLyiXF0cPIfQNKP1xoIQP",
      "include_colab_link": true
    },
    "kernelspec": {
      "name": "python3",
      "display_name": "Python 3"
    },
    "language_info": {
      "name": "python"
    }
  },
  "cells": [
    {
      "cell_type": "markdown",
      "metadata": {
        "id": "view-in-github",
        "colab_type": "text"
      },
      "source": [
        "<a href=\"https://colab.research.google.com/github/priya606/Assignment-5/blob/main/Assignment.ipynb\" target=\"_parent\"><img src=\"https://colab.research.google.com/assets/colab-badge.svg\" alt=\"Open In Colab\"/></a>"
      ]
    },
    {
      "cell_type": "markdown",
      "source": [
        "### Create a method overloading program in case if the both the values are equal then print False inside a formatted string otherwise print True "
      ],
      "metadata": {
        "id": "wuvnXSHMRgSd"
      }
    },
    {
      "cell_type": "code",
      "source": [
        "class employee:\n",
        "  def __init__(self,name,age):\n",
        "    self.enum1=name\n",
        "    self.enum2=age\n",
        "  def __str__(self):\n",
        "    return f'the name is {self.enum1} value is {self.enum2}'\n",
        "  def __eq__(self,temp):\n",
        "    name=(self.enum1!=temp.enum1)\n",
        "    age=(self.enum2!=temp.enum2)\n",
        "    return employee(name,age)"
      ],
      "metadata": {
        "id": "ex8YQ37PRqJ6"
      },
      "execution_count": null,
      "outputs": []
    },
    {
      "cell_type": "code",
      "source": [
        "cls1=employee('regex',16)\n",
        "print(cls1)"
      ],
      "metadata": {
        "colab": {
          "base_uri": "https://localhost:8080/"
        },
        "id": "gKXKkgTFTRwp",
        "outputId": "f9516c49-cf3e-44ba-d580-b7e7b4d267d0"
      },
      "execution_count": null,
      "outputs": [
        {
          "output_type": "stream",
          "name": "stdout",
          "text": [
            "the name is regex value is 16\n"
          ]
        }
      ]
    },
    {
      "cell_type": "code",
      "source": [
        "cls2=employee('goduhub',16)\n",
        "print(cls2)"
      ],
      "metadata": {
        "colab": {
          "base_uri": "https://localhost:8080/"
        },
        "id": "3Px_n8MDTi4c",
        "outputId": "e803466a-9b38-4cf0-ec86-29f36e70a6e3"
      },
      "execution_count": null,
      "outputs": [
        {
          "output_type": "stream",
          "name": "stdout",
          "text": [
            "the name is goduhub value is 16\n"
          ]
        }
      ]
    },
    {
      "cell_type": "code",
      "source": [
        "print(cls1==cls2)"
      ],
      "metadata": {
        "colab": {
          "base_uri": "https://localhost:8080/"
        },
        "id": "JC-RMsJxTqh2",
        "outputId": "66b4b33e-bd1c-4225-9c12-4f9a150b37d6"
      },
      "execution_count": null,
      "outputs": [
        {
          "output_type": "stream",
          "name": "stdout",
          "text": [
            "the name is True value is False\n"
          ]
        }
      ]
    }
  ]
}