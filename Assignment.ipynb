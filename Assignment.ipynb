{
  "nbformat": 4,
  "nbformat_minor": 0,
  "metadata": {
    "colab": {
      "name": "Assignment.ipynb",
      "provenance": [],
      "authorship_tag": "ABX9TyNHAeAcEf11zGTMF47vqCmi",
      "include_colab_link": true
    },
    "kernelspec": {
      "name": "python3",
      "display_name": "Python 3"
    },
    "language_info": {
      "name": "python"
    }
  },
  "cells": [
    {
      "cell_type": "markdown",
      "metadata": {
        "id": "view-in-github",
        "colab_type": "text"
      },
      "source": [
        "<a href=\"https://colab.research.google.com/github/priya606/Assignment-5/blob/main/Assignment.ipynb\" target=\"_parent\"><img src=\"https://colab.research.google.com/assets/colab-badge.svg\" alt=\"Open In Colab\"/></a>"
      ]
    },
    {
      "cell_type": "markdown",
      "source": [
        "### Create a method overloading program in case if the both the values are equal then print False inside a formatted string otherwise print True "
      ],
      "metadata": {
        "id": "wuvnXSHMRgSd"
      }
    },
    {
      "cell_type": "code",
      "source": [
        "class employee:\n",
        "  def __init__(self,name,age):\n",
        "    self.enum1=name\n",
        "    self.enum2=age\n",
        "  def __str__(self):\n",
        "    return f'the name is {self.enum1} value is {self.enum2}'\n",
        "  def __eq__(self,temp):\n",
        "    name=(self.enum1!=temp.enum1)\n",
        "    age=(self.enum2!=temp.enum2)\n",
        "    return employee(name,age)"
      ],
      "metadata": {
        "id": "ex8YQ37PRqJ6"
      },
      "execution_count": null,
      "outputs": []
    },
    {
      "cell_type": "code",
      "source": [
        "cls1=employee('regex',16)\n",
        "print(cls1)"
      ],
      "metadata": {
        "colab": {
          "base_uri": "https://localhost:8080/"
        },
        "id": "gKXKkgTFTRwp",
        "outputId": "f9516c49-cf3e-44ba-d580-b7e7b4d267d0"
      },
      "execution_count": null,
      "outputs": [
        {
          "output_type": "stream",
          "name": "stdout",
          "text": [
            "the name is regex value is 16\n"
          ]
        }
      ]
    },
    {
      "cell_type": "code",
      "source": [
        "cls2=employee('goduhub',16)\n",
        "print(cls2)"
      ],
      "metadata": {
        "colab": {
          "base_uri": "https://localhost:8080/"
        },
        "id": "3Px_n8MDTi4c",
        "outputId": "e803466a-9b38-4cf0-ec86-29f36e70a6e3"
      },
      "execution_count": null,
      "outputs": [
        {
          "output_type": "stream",
          "name": "stdout",
          "text": [
            "the name is goduhub value is 16\n"
          ]
        }
      ]
    },
    {
      "cell_type": "code",
      "source": [
        "print(cls1==cls2)"
      ],
      "metadata": {
        "colab": {
          "base_uri": "https://localhost:8080/"
        },
        "id": "JC-RMsJxTqh2",
        "outputId": "66b4b33e-bd1c-4225-9c12-4f9a150b37d6"
      },
      "execution_count": null,
      "outputs": [
        {
          "output_type": "stream",
          "name": "stdout",
          "text": [
            "the name is True value is False\n"
          ]
        }
      ]
    },
    {
      "cell_type": "markdown",
      "source": [
        "###- You need to take an input from the user from the range 1-9 \n",
        "[Os, webdriver, selenium]\n",
        "-> If the user put 1\n",
        "\t- Create a directory inside the location\n",
        "\t- Location should be taken from the user again\n",
        "\n",
        "-> input=2\n",
        "\t- print the ipaddress ipv4\n",
        "\n",
        "--> input=3\n",
        "   \t- Get the system to be shutdown at same moment\n",
        "\n",
        "--> input=4\n",
        "\t- Open the browser and search for the url : https://docs.python.org/3/library/abc.html\n",
        "\n",
        "--> input 5 to the range 10\n",
        "\tyou can simply call a method\n",
        "\t-> You will be taking a file name as arguments\n",
        "\t--> You will write data of arthimetic operation result over your operand in that file\n",
        "\t--> close\n",
        "\n",
        "--> If the user gives an input as zero --> give a value Error and handle it\n",
        "--> in case user put any other value --> ask for the input again\n",
        "     --> only 3 time ask for input and 4th time raise an exception and handle it"
      ],
      "metadata": {
        "id": "8d0TFFYPKsmU"
      }
    },
    {
      "cell_type": "code",
      "source": [
        "try:\n",
        "    user=int(input('enter the details:'))\n",
        "    if (user==0):\n",
        "      raise ValueError\n",
        "    if (user==1):\n",
        "        import os\n",
        "        cwd = cwd = os.getcwd()\n",
        "        print(\"Current working directory:\", cwd)\n",
        "    elif (user==2):                            \n",
        "        import socket    \n",
        "        hostname = socket.gethostname()    \n",
        "        IPAddr = socket.gethostbyname(hostname)    \n",
        "        print(\"Your Computer Name is:\" + hostname)    \n",
        "        print(\"Your Computer IP Address is:\" + IPAddr)\n",
        "    elif (user==3):\n",
        "        import os\n",
        "        os.system(\"shutdown /s /t 1\")\n",
        "except ValueError:\n",
        "  print(f'error is handled {ValueError}')\n",
        "  \n",
        "\n"
      ],
      "metadata": {
        "colab": {
          "base_uri": "https://localhost:8080/"
        },
        "id": "pDCGvJQ2F6GA",
        "outputId": "de772d13-adda-4272-8ad4-5f6661d61315"
      },
      "execution_count": 46,
      "outputs": [
        {
          "output_type": "stream",
          "name": "stdout",
          "text": [
            "enter the details:1\n",
            "Current working directory: /content\n"
          ]
        }
      ]
    }
  ]
}